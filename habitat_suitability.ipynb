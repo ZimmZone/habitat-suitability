{
 "cells": [
  {
   "cell_type": "code",
   "execution_count": null,
   "metadata": {},
   "outputs": [],
   "source": [
    "# Import necessary packages\n",
    "import os\n",
    "import pathlib\n",
    "import pandas as pd # Aggregating, data manipulation\n",
    "import re # Parsing information out of file names\n",
    "import rioxarray as rxr # Work with raster data\n",
    "import geopanda as gpd # Work with vector data\n",
    "import "
   ]
  },
  {
   "cell_type": "code",
   "execution_count": null,
   "metadata": {},
   "outputs": [],
   "source": [
    "# Set up a project data directory"
   ]
  },
  {
   "cell_type": "markdown",
   "metadata": {},
   "source": [
    "# Define your study area\n",
    "\n",
    "* Download the USFS National Grassland Units\n",
    "* Select your study sites"
   ]
  },
  {
   "cell_type": "code",
   "execution_count": null,
   "metadata": {},
   "outputs": [],
   "source": [
    "# Download from the URL\n",
    "# Define a path to save the study area\n",
    "# Only download once\n",
    "if not os.path.exists(study_area_path):\n",
    "    # Download study area\n",
    "\n",
    "    # Save the study area\n",
    "\n",
    "# Load the study area\n",
    "\n",
    "# Plot to check that the data is as expected"
   ]
  },
  {
   "cell_type": "code",
   "execution_count": null,
   "metadata": {},
   "outputs": [],
   "source": [
    "# Select the study sites\n",
    "\n",
    "# Make two site maps"
   ]
  },
  {
   "cell_type": "code",
   "execution_count": null,
   "metadata": {
    "vscode": {
     "languageId": "plaintext"
    }
   },
   "outputs": [],
   "source": [
    "# Define the download URL for the study area\n"
   ]
  },
  {
   "cell_type": "markdown",
   "metadata": {},
   "source": [
    "# Load in soil data\n",
    "\n",
    "For each grassland:\n",
    "  * Download model variable as raster layers covering your study area envelope, including at least one soil variable from the POLAris dataset."
   ]
  },
  {
   "cell_type": "code",
   "execution_count": null,
   "metadata": {},
   "outputs": [],
   "source": [
    "# Define download URL template for the soil data\n",
    "\n",
    "# List out all soil files needed for download\n",
    "\n",
    "output_da_list = [  ]\n",
    "\n",
    "# Loop through each of the soil files (more info in redlining 92)\n",
    "\n",
    "    # Download raster data\n",
    "\n",
    "    # Extract metadata from the file name\n",
    "\n",
    "    # Unzip the raster data\n",
    "\n",
    "    # Only download once -- Save raster data to the disk\n",
    "\n",
    "    # Load the raster data into Python, mask, and scale.\n",
    "\n",
    "    # Make sure that the CRSs match between vector and raster data (Get the study bounds section)\n",
    "\n",
    "    # Crop the raster data\n",
    "\n",
    "output_da_list.append(cropped_da)\n",
    "\n",
    "# merge tiles\n",
    "\n",
    "# Make a plot to check teh download (don't need to make a cloud mask), load in multiple bands, or calcualte the spectral indices"
   ]
  },
  {
   "cell_type": "code",
   "execution_count": null,
   "metadata": {},
   "outputs": [],
   "source": [
    "# Merge tile"
   ]
  }
 ],
 "metadata": {
  "language_info": {
   "name": "python"
  }
 },
 "nbformat": 4,
 "nbformat_minor": 2
}
