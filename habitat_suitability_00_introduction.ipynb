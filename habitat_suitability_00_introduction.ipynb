{
 "cells": [
  {
   "cell_type": "markdown",
   "metadata": {},
   "source": [
    "# High-Level Project Description\n",
    "\n",
    "In this project, you will create a habitat suitability model for Sorghastrum nutans (or a plant species of your choice), a grass native to North America. In the past 50 years, its range has moved northward. The model will be based on combining multiple data layers related to soil, topography, and climate. You will also demonstrate the coding skills covered in this class by creating a modular, reproducible workflow for the model.\n",
    "\n",
    "## National Grasslands and Habitat\n",
    "\n",
    "All but four national grasslands are on or at the edge of the Great Plains. Those four are in southeastern Idaho, northeastern California, central Oregon, and a reserve in Illinois [Wikipedia National Grasslands](https://en.wikipedia.org/wiki/National_grassland). As of September 30, 2007, the total area of all 20 national grasslands was 3,838,280 acres (1,553,300 ha).[1]\n",
    "\n",
    "### Sorghastrum nutans (Yellow Indian Grass)\n",
    " Yellow indian grass is a tall, bunching sod-former, 3-8 ft. in height, with broad blue-green blades and a large, plume-like, soft, golden-brown seed head. This showy perennial’s fall color is deep orange to purple.\n",
    "\n",
    "This is a beautiful grass with a somewhat metallic golden sheen to its flowering parts. It is an important associate in the tallgrass prairies and is relished by livestock. It appears to be favored by occasional flooding and repeated burning and sometimes forms nearly pure stands in the lowlands. Warm-season grass with rich gold-and-purple sprays of flowers and seeds in the fall. (Ontario Native Plants 2002) \n",
    "\n",
    "#### Distribution\n",
    "USA: AL , AR , AZ , CO , CT , DC , DE , FL , GA , IA , IL , IN , KS , KY , LA , MA , MD , ME , MI , MN , MO , MS , NC , ND , NE , NH , NJ , NM , NY , OH , OK , PA , RI , SC , SD , TN , TX , UT , VA , VT , WI , WV , WY\n",
    "Canada: MB , NB , ON , QC , SK\n",
    "Native Distribution: Que. & ME to Man., s. to FL & AZ, then south to Chiapas in southern Mexico\n",
    "Native Habitat: Prairies; open woods; fields; dry slopes. Frequent in north central Texas, Edwards Plateau, and Plains Country. Sand, loam, clay, limestone; seasonal poor drainage okay.\n",
    "\n",
    "#### Growing Conditions\n",
    "Water Use: Medium\n",
    "Light Requirement: Sun , Part Shade , Shade\n",
    "Soil Moisture: Dry , Moist\n",
    "CaCO3 Tolerance: High\n",
    "Drought Tolerance: High\n",
    "Soil Description: Moist, rich soils. Calcareous, Sandy Sandy Loam, Medium Loam, Clay Loam, Clay, Limestone-based\n",
    "\n",
    "Sorgastrum Nutans occurs in areas that recieven 11 to 45 inches [(28 to 114 cm)](https://www.nrcs.usda.gov/plantmaterials/etpmcpg13196.pdf) of annual precipitation (USDA, NRCA 2017).\n",
    "\n",
    "Indiangrass is adapted to deep, moist soils ranging from heavy clays to sand with a pH range of 4.8 to 8.0. Indiangrass has a medium tolerance to salinity and drought (USDA, NRCS 2017; Schmer et al. 2012).\n",
    "\n",
    "Conditions Comments: Along with little bluestem, big bluestem and switchgrass, Indian grass is an important species in the tallgrass prairie. The bright yellow flowers contrast attractively with the blue-gray foliage. The grass stays low most of the year and then gets tall before blooming in early autumn. Like little bluestem, Indian grass is best planted en masse or in a wildflower meadow. \n",
    "\n",
    "## Reference: \n",
    "\n",
    "Brakie, M. 2017. Plant Guide for Indiangrass (Sorghastrum nutans). USDA-Natural Resources Conservation Service, East Texas Plant Materials Center. Nacogdoches, TX 75964.\n",
    "\n",
    "Schmer, M., Q. Xue, and J. Hendrickson. 2012. Salinity effects on perennial, warm season (C4) grass germination adapted to the northern great plains. Can. J. Plant Sci. 92:873-881.\n",
    "\n",
    "USDA, NRCS. 2017. The PLANTS Database (http://plants.usda.gov, 19 July 2017). National Plant data Team, Greensboro, NC 27401-4901 USA\n",
    "\n",
    "Wildflower.org: https://www.wildflower.org/plants/result.php?id_plant=SONU2"
   ]
  }
 ],
 "metadata": {
  "kernelspec": {
   "display_name": "earth-analytics-python",
   "language": "python",
   "name": "python3"
  },
  "language_info": {
   "name": "python",
   "version": "3.11.10"
  }
 },
 "nbformat": 4,
 "nbformat_minor": 2
}
